{
  "nbformat": 4,
  "nbformat_minor": 0,
  "metadata": {
    "colab": {
      "provenance": []
    },
    "kernelspec": {
      "name": "python3",
      "display_name": "Python 3"
    },
    "language_info": {
      "name": "python"
    }
  },
  "cells": [
    {
      "cell_type": "code",
      "execution_count": 1,
      "metadata": {
        "colab": {
          "base_uri": "https://localhost:8080/"
        },
        "id": "BFhFWHgZ50OY",
        "outputId": "783a6aa9-35db-4158-de91-610908473fc1"
      },
      "outputs": [
        {
          "output_type": "stream",
          "name": "stdout",
          "text": [
            "pip 24.1.2 from /usr/local/lib/python3.11/dist-packages/pip (python 3.11)\n",
            "Requirement already satisfied: pyspark in /usr/local/lib/python3.11/dist-packages (3.5.4)\n",
            "Requirement already satisfied: py4j in /usr/local/lib/python3.11/dist-packages (0.10.9.7)\n"
          ]
        }
      ],
      "source": [
        "!pip --version\n",
        "!pip install pyspark py4j"
      ]
    },
    {
      "cell_type": "code",
      "source": [
        "from pyspark.sql import SparkSession"
      ],
      "metadata": {
        "id": "ooxcPbQH6L-X"
      },
      "execution_count": 40,
      "outputs": []
    },
    {
      "cell_type": "code",
      "source": [
        "spark = SparkSession.builder.appName('MyAppSpark') \\\n",
        "    .config('spark.master', 'local[*]') \\\n",
        "    .getOrCreate()"
      ],
      "metadata": {
        "id": "ApWAUqOd6R70"
      },
      "execution_count": 41,
      "outputs": []
    },
    {
      "cell_type": "code",
      "source": [
        "# Чтение данных из CSV файлов\n",
        "df_actors = spark.read.csv('/content/sample_data/actors.csv', header=True, inferSchema=True)\n",
        "df_movies = spark.read.csv('/content/sample_data/movies.csv', header=True, inferSchema=True)\n",
        "df_movies_actors = spark.read.csv('/content/sample_data/movie_actors.csv', header=True, inferSchema=True)"
      ],
      "metadata": {
        "id": "4Za3mPwO75Mk"
      },
      "execution_count": 42,
      "outputs": []
    },
    {
      "cell_type": "code",
      "source": [
        "# Регистрация DataFrame как временные таблицы\n",
        "df_actors.createOrReplaceTempView('actors')\n",
        "df_movies.createOrReplaceTempView('movies')\n",
        "df_movies_actors.createOrReplaceTempView('movies_actors')"
      ],
      "metadata": {
        "id": "_cqa_l3M9LL-"
      },
      "execution_count": 43,
      "outputs": []
    },
    {
      "cell_type": "code",
      "source": [
        "spark.sql('''\n",
        "          SELECT *\n",
        "          FROM actors\n",
        "          LIMIT 2\n",
        "          ''').show()\n",
        "\n",
        "spark.sql('''\n",
        "          SELECT *\n",
        "          FROM movies\n",
        "          LIMIT 2\n",
        "          ''').show()\n",
        "\n",
        "spark.sql('''\n",
        "          SELECT *\n",
        "          FROM movies_actors\n",
        "          LIMIT 2\n",
        "          ''').show()"
      ],
      "metadata": {
        "colab": {
          "base_uri": "https://localhost:8080/"
        },
        "id": "vfvsy44d-tTJ",
        "outputId": "20f2028b-30d6-4d69-aabf-0a30577e8976"
      },
      "execution_count": 61,
      "outputs": [
        {
          "output_type": "stream",
          "name": "stdout",
          "text": [
            "+--------+-------+----------+-------+\n",
            "|actor_id|   name|birth_date|country|\n",
            "+--------+-------+----------+-------+\n",
            "|       1|Actor_1|1960-12-31| Canada|\n",
            "|       2|Actor_2|1962-12-31|     UK|\n",
            "+--------+-------+----------+-------+\n",
            "\n",
            "+--------+-------+------+------------+-------------+\n",
            "|movie_id|  title| genre|release_date|       budget|\n",
            "+--------+-------+------+------------+-------------+\n",
            "|       1|Movie_1|Horror|  2000-12-31|8.660058311E7|\n",
            "|       2|Movie_2|Comedy|  2001-12-31|1.274740083E7|\n",
            "+--------+-------+------+------------+-------------+\n",
            "\n",
            "+--------+--------+\n",
            "|movie_id|actor_id|\n",
            "+--------+--------+\n",
            "|       1|      25|\n",
            "|      16|       5|\n",
            "+--------+--------+\n",
            "\n"
          ]
        }
      ]
    },
    {
      "cell_type": "code",
      "source": [
        "#топ-5 жанров по количеству фильмов.\n",
        "df_top5_genre = spark.sql(\"\"\"\n",
        "          SELECT\n",
        "            genre,\n",
        "            count(movie_id) as num_movies\n",
        "          FROM movies\n",
        "          GROUP BY genre\n",
        "          ORDER BY num_movies desc\n",
        "          LIMIT 5\n",
        "          \"\"\")\n",
        "df_top5_genre.show()"
      ],
      "metadata": {
        "colab": {
          "base_uri": "https://localhost:8080/"
        },
        "id": "0zHnVvyS_4wP",
        "outputId": "d7107fd0-2425-4622-d0c0-7ec0801a33f4"
      },
      "execution_count": 44,
      "outputs": [
        {
          "output_type": "stream",
          "name": "stdout",
          "text": [
            "+------+----------+\n",
            "| genre|num_movies|\n",
            "+------+----------+\n",
            "| Drama|         6|\n",
            "|Action|         6|\n",
            "|Comedy|         4|\n",
            "|Horror|         2|\n",
            "|Sci-Fi|         2|\n",
            "+------+----------+\n",
            "\n"
          ]
        }
      ]
    },
    {
      "cell_type": "code",
      "source": [
        "# актер с наибольшим количеством фильмов.\n",
        "\n",
        "df_top_actor = spark.sql(\"\"\"\n",
        "    SELECT\n",
        "        a.name,\n",
        "        count(ma.movie_id) num_movies\n",
        "    FROM actors a\n",
        "    JOIN movies_actors ma USING(actor_id)\n",
        "    GROUP BY a.actor_id, a.name\n",
        "    ORDER BY num_movies desc\n",
        "    LIMIT 1\n",
        "\"\"\")\n",
        "\n",
        "df_top_actor.show()"
      ],
      "metadata": {
        "colab": {
          "base_uri": "https://localhost:8080/"
        },
        "id": "pitzEk6zCoyc",
        "outputId": "30118227-880d-4e9c-bdab-89295421c8e5"
      },
      "execution_count": 58,
      "outputs": [
        {
          "output_type": "stream",
          "name": "stdout",
          "text": [
            "+--------+----------+\n",
            "|    name|num_movies|\n",
            "+--------+----------+\n",
            "|Actor_17|         5|\n",
            "+--------+----------+\n",
            "\n"
          ]
        }
      ]
    },
    {
      "cell_type": "code",
      "source": [
        "# средний бюджет фильмов по жанрам.\n",
        "\n",
        "query = \"\"\"\n",
        "        SELECT\n",
        "            genre,\n",
        "            avg(budget) as avg_budget\n",
        "        FROM\n",
        "            movies\n",
        "        GROUP BY genre\n",
        "        \"\"\"\n",
        "genre_avg_budget = spark.sql(query)\n",
        "genre_avg_budget.show()"
      ],
      "metadata": {
        "colab": {
          "base_uri": "https://localhost:8080/"
        },
        "id": "48Pz_-BtJ_t-",
        "outputId": "4233fdb2-73bc-4b8e-a62e-9b212e1c05ed"
      },
      "execution_count": 60,
      "outputs": [
        {
          "output_type": "stream",
          "name": "stdout",
          "text": [
            "+------+--------------------+\n",
            "| genre|          avg_budget|\n",
            "+------+--------------------+\n",
            "| Drama| 6.076021856166667E7|\n",
            "|Horror|      8.7281876775E7|\n",
            "|Comedy|     5.20709662225E7|\n",
            "|Action|2.7492742561666667E7|\n",
            "|Sci-Fi|       7.809715175E7|\n",
            "+------+--------------------+\n",
            "\n"
          ]
        }
      ]
    },
    {
      "cell_type": "code",
      "source": [
        "# Найдите фильмы, в которых снялось более одного актера из одной страны.\n",
        "query = \"\"\"\n",
        "        SELECT\n",
        "            m.title,\n",
        "            a.country,\n",
        "            count(a.actor_id)as num_actors\n",
        "        FROM\n",
        "            movies_actors ma\n",
        "        JOIN movies m USING(movie_id)\n",
        "        JOIN actors a USING(actor_id)\n",
        "        GROUP BY m.title, a.country\n",
        "        HAVING num_actors > 1\n",
        "        \"\"\"\n",
        "movies_with_multiple_actors_same_country = spark.sql(query)\n",
        "\n",
        "movies_with_multiple_actors_same_country.show()"
      ],
      "metadata": {
        "colab": {
          "base_uri": "https://localhost:8080/"
        },
        "id": "3xwo5Wu0LTZ5",
        "outputId": "1cf5466d-c5fa-4946-f825-6994afbeb9b8"
      },
      "execution_count": 64,
      "outputs": [
        {
          "output_type": "stream",
          "name": "stdout",
          "text": [
            "+--------+---------+----------+\n",
            "|   title|  country|num_actors|\n",
            "+--------+---------+----------+\n",
            "| Movie_7|    India|         2|\n",
            "| Movie_3|      USA|         2|\n",
            "|Movie_10|       UK|         2|\n",
            "|Movie_15|    India|         2|\n",
            "|Movie_18|Australia|         2|\n",
            "| Movie_1|    India|         3|\n",
            "| Movie_2|      USA|         2|\n",
            "| Movie_7|      USA|         2|\n",
            "|Movie_10|      USA|         2|\n",
            "+--------+---------+----------+\n",
            "\n"
          ]
        }
      ]
    }
  ]
}