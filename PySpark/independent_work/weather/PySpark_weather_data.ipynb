{
  "nbformat": 4,
  "nbformat_minor": 0,
  "metadata": {
    "colab": {
      "provenance": []
    },
    "kernelspec": {
      "name": "python3",
      "display_name": "Python 3"
    },
    "language_info": {
      "name": "python"
    }
  },
  "cells": [
    {
      "cell_type": "code",
      "execution_count": null,
      "metadata": {
        "colab": {
          "base_uri": "https://localhost:8080/"
        },
        "id": "mPtBNdPLa_DU",
        "outputId": "db8d9347-986f-4736-eb22-853c7911a1c8"
      },
      "outputs": [
        {
          "output_type": "stream",
          "name": "stdout",
          "text": [
            "pip 24.1.2 from /usr/local/lib/python3.11/dist-packages/pip (python 3.11)\n"
          ]
        }
      ],
      "source": [
        "pip --version"
      ]
    },
    {
      "cell_type": "code",
      "source": [
        "!pip install pyspark py4j"
      ],
      "metadata": {
        "colab": {
          "base_uri": "https://localhost:8080/"
        },
        "id": "nevqw7VKbchi",
        "outputId": "64e4a4f0-2818-49fd-d342-0342cef90cbd"
      },
      "execution_count": null,
      "outputs": [
        {
          "output_type": "stream",
          "name": "stdout",
          "text": [
            "Requirement already satisfied: pyspark in /usr/local/lib/python3.11/dist-packages (3.5.4)\n",
            "Requirement already satisfied: py4j in /usr/local/lib/python3.11/dist-packages (0.10.9.7)\n"
          ]
        }
      ]
    },
    {
      "cell_type": "code",
      "source": [
        "from pyspark.sql import SparkSession\n",
        "from pyspark.sql.types import DateType, StringType\n",
        "from pyspark.sql.functions import col, when, year, month, avg, sum as _sum\n",
        "\n",
        "# Создание объекта SparkSession\n",
        "spark = SparkSession.builder \\\n",
        "    .appName(\"MySparkApp\") \\\n",
        "    .config(\"spark.master\", \"local[*]\") \\\n",
        "    .getOrCreate()\n"
      ],
      "metadata": {
        "id": "sh0Is20Pbost"
      },
      "execution_count": 29,
      "outputs": []
    },
    {
      "cell_type": "code",
      "source": [
        "# Данные из csv\n",
        "df = spark.read.csv(\"/content/sample_data/weather_data2.csv\", header=True, inferSchema=True)\n",
        "\n",
        "df.show(5) # обратить внимание на station_1|2019-01-01 (temperature тут NULL)\n",
        "\n"
      ],
      "metadata": {
        "colab": {
          "base_uri": "https://localhost:8080/"
        },
        "id": "U8FiXU_-D3Ju",
        "outputId": "9424bbdd-3153-4171-8147-c5119e446777"
      },
      "execution_count": 30,
      "outputs": [
        {
          "output_type": "stream",
          "name": "stdout",
          "text": [
            "+----------+----------+------------------+------------------+-----------------+\n",
            "|station_id|      date|       temperature|     precipitation|       wind_speed|\n",
            "+----------+----------+------------------+------------------+-----------------+\n",
            "| station_1|2019-01-01|              NULL| 23.67004407474563|5.458999894629757|\n",
            "| station_7|2022-06-28|-6.751842212861652| 23.67004407474563|5.458999894629757|\n",
            "| station_4|2020-04-07| -9.57484426026233|2.9858244485444665|6.828505392085966|\n",
            "| station_8|2018-12-22| 19.34342035369938| 33.58211407730149|8.975576079892296|\n",
            "| station_5|2021-09-09|30.880953114964086|29.110437988411558|18.26465360842913|\n",
            "+----------+----------+------------------+------------------+-----------------+\n",
            "only showing top 5 rows\n",
            "\n"
          ]
        }
      ]
    },
    {
      "cell_type": "code",
      "source": [
        "df.dtypes"
      ],
      "metadata": {
        "colab": {
          "base_uri": "https://localhost:8080/"
        },
        "id": "MZ34rcPbRh8j",
        "outputId": "5f32d511-0090-42c3-e933-4e396faba903"
      },
      "execution_count": 31,
      "outputs": [
        {
          "output_type": "execute_result",
          "data": {
            "text/plain": [
              "[('station_id', 'string'),\n",
              " ('date', 'date'),\n",
              " ('temperature', 'double'),\n",
              " ('precipitation', 'double'),\n",
              " ('wind_speed', 'double')]"
            ]
          },
          "metadata": {},
          "execution_count": 31
        }
      ]
    },
    {
      "cell_type": "code",
      "source": [
        "# Проверяем тип данных столбца 'date' с помощью встроенной ф-ции python\n",
        "# isinstance(object, classinfo)\n",
        "# и если это не DateType, то изменим ему тип\n",
        "\n",
        "if not isinstance(df.schema['date'].dataType, DateType):\n",
        "    df = df.withColumn('date', col('date').cast(DateType()))\n",
        "\n",
        "df.printSchema()\n",
        "df.show(5)\n"
      ],
      "metadata": {
        "colab": {
          "base_uri": "https://localhost:8080/"
        },
        "id": "YadAzxViz76y",
        "outputId": "53736dab-22d9-44c8-9ee6-c14f2edbddc7"
      },
      "execution_count": 32,
      "outputs": [
        {
          "output_type": "stream",
          "name": "stdout",
          "text": [
            "root\n",
            " |-- station_id: string (nullable = true)\n",
            " |-- date: date (nullable = true)\n",
            " |-- temperature: double (nullable = true)\n",
            " |-- precipitation: double (nullable = true)\n",
            " |-- wind_speed: double (nullable = true)\n",
            "\n",
            "+----------+----------+------------------+------------------+-----------------+\n",
            "|station_id|      date|       temperature|     precipitation|       wind_speed|\n",
            "+----------+----------+------------------+------------------+-----------------+\n",
            "| station_1|2019-01-01|              NULL| 23.67004407474563|5.458999894629757|\n",
            "| station_7|2022-06-28|-6.751842212861652| 23.67004407474563|5.458999894629757|\n",
            "| station_4|2020-04-07| -9.57484426026233|2.9858244485444665|6.828505392085966|\n",
            "| station_8|2018-12-22| 19.34342035369938| 33.58211407730149|8.975576079892296|\n",
            "| station_5|2021-09-09|30.880953114964086|29.110437988411558|18.26465360842913|\n",
            "+----------+----------+------------------+------------------+-----------------+\n",
            "only showing top 5 rows\n",
            "\n"
          ]
        }
      ]
    },
    {
      "cell_type": "code",
      "source": [
        "# Заполнение пропущенных значений средними значениями по метеостанциям\n",
        "\n",
        "# Для этого сначала создадим новый DataFrame avg_val_for_station\n",
        "# в котором вычислим средние значения для каждого столбца\n",
        "\n",
        "avg_val_for_station = df.groupBy('station_id').agg( # agg позволяет агрегировать несколько ф-ций\n",
        "    avg('temperature').alias('avg_temp'),\n",
        "    avg('precipitation').alias('avg_prec'),\n",
        "    avg('wind_speed').alias('avg_wind_speed')\n",
        ")\n",
        "\n",
        "avg_val_for_station.show()\n"
      ],
      "metadata": {
        "colab": {
          "base_uri": "https://localhost:8080/"
        },
        "id": "m-_XNxdUSwkm",
        "outputId": "806966b3-d8d7-4733-907c-62fc9e175701"
      },
      "execution_count": 33,
      "outputs": [
        {
          "output_type": "stream",
          "name": "stdout",
          "text": [
            "+----------+------------------+------------------+-----------------+\n",
            "|station_id|          avg_temp|          avg_prec|   avg_wind_speed|\n",
            "+----------+------------------+------------------+-----------------+\n",
            "| station_3| 9.740896689073265| 29.30794836488954|9.549718299425892|\n",
            "| station_2|13.548804373583142| 23.87917025369124|9.442878291606355|\n",
            "| station_6|7.4142338849559595|26.324503886442812|8.838197472682314|\n",
            "| station_1| 7.592646639928555| 26.11867608871683|10.47702484270486|\n",
            "|station_10|10.315596733581119| 27.47307945637249|9.189041643479774|\n",
            "| station_7|11.346867821763226|26.187226363752927|9.483246108111171|\n",
            "| station_4|11.525432311947469|24.391630446521486|11.11827270875864|\n",
            "| station_8| 9.303162647953123|25.400828618016806|8.415283574279137|\n",
            "| station_5|  9.02260103202405|24.637566483956036|9.668542320392868|\n",
            "| station_9|10.904335933104583| 25.38019287227167|9.327308366972966|\n",
            "+----------+------------------+------------------+-----------------+\n",
            "\n"
          ]
        }
      ]
    },
    {
      "cell_type": "code",
      "source": [
        "# Объединяем исходный DataFrame со средними значениями\n",
        "\n",
        "df = df.join(avg_val_for_station, on='station_id', how='left')\n",
        "\n",
        "df.show(5)"
      ],
      "metadata": {
        "colab": {
          "base_uri": "https://localhost:8080/"
        },
        "id": "1O0SkVNGWRiy",
        "outputId": "db3dceed-210b-4e68-e13c-e063d9cbc734"
      },
      "execution_count": 34,
      "outputs": [
        {
          "output_type": "stream",
          "name": "stdout",
          "text": [
            "+----------+----------+------------------+------------------+-----------------+------------------+------------------+-----------------+\n",
            "|station_id|      date|       temperature|     precipitation|       wind_speed|          avg_temp|          avg_prec|   avg_wind_speed|\n",
            "+----------+----------+------------------+------------------+-----------------+------------------+------------------+-----------------+\n",
            "| station_1|2019-01-01|              NULL| 23.67004407474563|5.458999894629757| 7.592646639928555| 26.11867608871683|10.47702484270486|\n",
            "| station_7|2022-06-28|-6.751842212861652| 23.67004407474563|5.458999894629757|11.346867821763226|26.187226363752927|9.483246108111171|\n",
            "| station_4|2020-04-07| -9.57484426026233|2.9858244485444665|6.828505392085966|11.525432311947469|24.391630446521486|11.11827270875864|\n",
            "| station_8|2018-12-22| 19.34342035369938| 33.58211407730149|8.975576079892296| 9.303162647953123|25.400828618016806|8.415283574279137|\n",
            "| station_5|2021-09-09|30.880953114964086|29.110437988411558|18.26465360842913|  9.02260103202405|24.637566483956036|9.668542320392868|\n",
            "+----------+----------+------------------+------------------+-----------------+------------------+------------------+-----------------+\n",
            "only showing top 5 rows\n",
            "\n"
          ]
        }
      ]
    },
    {
      "cell_type": "markdown",
      "source": [],
      "metadata": {
        "id": "vCCyHqQHIAzc"
      }
    },
    {
      "cell_type": "code",
      "source": [
        "# Заполним пропущенных значений средними значениями. when().otherwise()\n",
        "# -- обратить внимание на station_1|2019-01-01\n",
        "df = df.withColumn(\n",
        "    'temperature',\n",
        "    when(col('temperature').isNull(), col('avg_temp')).otherwise(col('temperature'))\n",
        ").withColumn(\n",
        "    'precipitation',\n",
        "    when(col('precipitation').isNull(), col('avg_prec')).otherwise(col('precipitation'))\n",
        ").withColumn(\n",
        "    'wind_speed',\n",
        "    when(col('wind_speed').isNull(), col('avg_wind_speed')).otherwise(col('precipitation'))\n",
        ")\n",
        "\n",
        "df.show(5)\n"
      ],
      "metadata": {
        "colab": {
          "base_uri": "https://localhost:8080/"
        },
        "id": "grPVqygRn4Lr",
        "outputId": "3a90a3dc-5c9c-4b18-e12e-5d9ea09ba7ec"
      },
      "execution_count": 35,
      "outputs": [
        {
          "output_type": "stream",
          "name": "stdout",
          "text": [
            "+----------+----------+------------------+------------------+------------------+------------------+------------------+-----------------+\n",
            "|station_id|      date|       temperature|     precipitation|        wind_speed|          avg_temp|          avg_prec|   avg_wind_speed|\n",
            "+----------+----------+------------------+------------------+------------------+------------------+------------------+-----------------+\n",
            "| station_1|2019-01-01| 7.592646639928555| 23.67004407474563| 23.67004407474563| 7.592646639928555| 26.11867608871683|10.47702484270486|\n",
            "| station_7|2022-06-28|-6.751842212861652| 23.67004407474563| 23.67004407474563|11.346867821763226|26.187226363752927|9.483246108111171|\n",
            "| station_4|2020-04-07| -9.57484426026233|2.9858244485444665|2.9858244485444665|11.525432311947469|24.391630446521486|11.11827270875864|\n",
            "| station_8|2018-12-22| 19.34342035369938| 33.58211407730149| 33.58211407730149| 9.303162647953123|25.400828618016806|8.415283574279137|\n",
            "| station_5|2021-09-09|30.880953114964086|29.110437988411558|29.110437988411558|  9.02260103202405|24.637566483956036|9.668542320392868|\n",
            "+----------+----------+------------------+------------------+------------------+------------------+------------------+-----------------+\n",
            "only showing top 5 rows\n",
            "\n"
          ]
        }
      ]
    },
    {
      "cell_type": "code",
      "source": [
        "# Удаляем временные столбцы со средними значениями\n",
        "df = df.drop('avg_temp', 'avg_prec', 'avg_wind_speed')\n",
        "\n",
        "df.show(5)"
      ],
      "metadata": {
        "colab": {
          "base_uri": "https://localhost:8080/"
        },
        "id": "53ZwGKz5phAy",
        "outputId": "f374c294-a4e7-4770-8c95-ab15ffa6518b"
      },
      "execution_count": 36,
      "outputs": [
        {
          "output_type": "stream",
          "name": "stdout",
          "text": [
            "+----------+----------+------------------+------------------+------------------+\n",
            "|station_id|      date|       temperature|     precipitation|        wind_speed|\n",
            "+----------+----------+------------------+------------------+------------------+\n",
            "| station_1|2019-01-01| 7.592646639928555| 23.67004407474563| 23.67004407474563|\n",
            "| station_7|2022-06-28|-6.751842212861652| 23.67004407474563| 23.67004407474563|\n",
            "| station_4|2020-04-07| -9.57484426026233|2.9858244485444665|2.9858244485444665|\n",
            "| station_8|2018-12-22| 19.34342035369938| 33.58211407730149| 33.58211407730149|\n",
            "| station_5|2021-09-09|30.880953114964086|29.110437988411558|29.110437988411558|\n",
            "+----------+----------+------------------+------------------+------------------+\n",
            "only showing top 5 rows\n",
            "\n"
          ]
        }
      ]
    },
    {
      "cell_type": "code",
      "source": [
        "# топ-5 самых жарких дней за все время наблюдений.\n",
        "hot_days = df.orderBy(df.temperature.desc())\\\n",
        "  .limit(5).select('date', 'temperature')\n",
        "hot_days.show()"
      ],
      "metadata": {
        "colab": {
          "base_uri": "https://localhost:8080/"
        },
        "id": "TBLY8JPiwHJK",
        "outputId": "ab3f2790-a2fe-4bb5-de04-a2972bb719bc"
      },
      "execution_count": 37,
      "outputs": [
        {
          "output_type": "stream",
          "name": "stdout",
          "text": [
            "+----------+------------------+\n",
            "|      date|       temperature|\n",
            "+----------+------------------+\n",
            "|2021-08-20|39.982828249354846|\n",
            "|2023-12-02| 39.96797489293784|\n",
            "|2022-03-28|  39.8246894248997|\n",
            "|2019-02-11| 39.76737697836647|\n",
            "|2020-06-10| 39.69147838355929|\n",
            "+----------+------------------+\n",
            "\n"
          ]
        }
      ]
    },
    {
      "cell_type": "code",
      "source": [
        "df.printSchema()"
      ],
      "metadata": {
        "colab": {
          "base_uri": "https://localhost:8080/"
        },
        "id": "r9FAQb9mDmFN",
        "outputId": "d2bc1c34-bb94-47a7-dd7b-e84f10f19a5b"
      },
      "execution_count": 27,
      "outputs": [
        {
          "output_type": "stream",
          "name": "stdout",
          "text": [
            "root\n",
            " |-- station_id: string (nullable = true)\n",
            " |-- date: date (nullable = true)\n",
            " |-- temperature: double (nullable = true)\n",
            " |-- precipitation: double (nullable = true)\n",
            " |-- wind_speed: double (nullable = true)\n",
            "\n"
          ]
        }
      ]
    },
    {
      "cell_type": "code",
      "source": [
        "#метеостанция с наибольшим количеством осадков за последний год.\n",
        "\n",
        "last_year = df.sort(df.date.desc()) \\\n",
        "  .limit(1) \\\n",
        "  .select(year('date').alias('year')).collect()[0]['year'] # тут получаем\n",
        "# DataFrame DataFrame[year: int], и с помощью collect() 'делаем' его списком\n",
        "#[Row(year=2023)], из которого берем берем первый элимент[0] Row(year=2023)\n",
        "#и дергаем оттуда год ['year'] в итоге тип last_year будет int и равен 2023\n",
        "\n",
        "station_precip = df.filter(year('date') == last_year)\\\n",
        "  .groupBy('station_id') \\\n",
        "  .agg(_sum('precipitation').alias('sum_prec')) \\\n",
        "  .orderBy(col('sum_prec').desc()) \\\n",
        "  .limit(1)\n",
        "\n",
        "station_precip.show()\n",
        "\n"
      ],
      "metadata": {
        "colab": {
          "base_uri": "https://localhost:8080/"
        },
        "id": "kYy2MBlkzKGy",
        "outputId": "35dc9615-75a6-4e66-9b8b-9d9d717c7987"
      },
      "execution_count": 44,
      "outputs": [
        {
          "output_type": "stream",
          "name": "stdout",
          "text": [
            "2023\n"
          ]
        }
      ]
    },
    {
      "cell_type": "code",
      "source": [
        "# средняя температура по месяцам за все время наблюдений.\n",
        "\n",
        "month_avg_temp = df.withColumn('month', month('date'))\\\n",
        "  .groupBy('month').agg(avg('temperature').alias('temperature'))\\\n",
        "  .orderBy('month')\n",
        "\n",
        "month_avg_temp.show()"
      ],
      "metadata": {
        "colab": {
          "base_uri": "https://localhost:8080/"
        },
        "id": "E2mmkQrhCAwV",
        "outputId": "684b8cf1-a380-4aee-80d6-d13b5e54a645"
      },
      "execution_count": 13,
      "outputs": [
        {
          "output_type": "stream",
          "name": "stdout",
          "text": [
            "+-----+------------------+\n",
            "|month|       temperature|\n",
            "+-----+------------------+\n",
            "|    1|11.313747191839138|\n",
            "|    2| 9.067229891101926|\n",
            "|    3| 7.244080205633994|\n",
            "|    4|12.024529009744693|\n",
            "|    5| 9.902883346912718|\n",
            "|    6|13.421092297254138|\n",
            "|    7|6.1857183016954576|\n",
            "|    8|  10.9678002814186|\n",
            "|    9| 9.596744236573942|\n",
            "|   10|  9.09884344821895|\n",
            "|   11| 7.265889994697494|\n",
            "|   12|11.218592100674337|\n",
            "+-----+------------------+\n",
            "\n"
          ]
        }
      ]
    },
    {
      "cell_type": "code",
      "source": [
        "spark.stop()"
      ],
      "metadata": {
        "id": "eQ75D-kriF0g"
      },
      "execution_count": 137,
      "outputs": []
    }
  ]
}