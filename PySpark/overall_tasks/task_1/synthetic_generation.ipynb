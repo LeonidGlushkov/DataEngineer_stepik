{
  "nbformat": 4,
  "nbformat_minor": 0,
  "metadata": {
    "colab": {
      "provenance": []
    },
    "kernelspec": {
      "name": "python3",
      "display_name": "Python 3"
    },
    "language_info": {
      "name": "python"
    }
  },
  "cells": [
    {
      "cell_type": "code",
      "source": [
        "!pip install transliterate"
      ],
      "metadata": {
        "colab": {
          "base_uri": "https://localhost:8080/"
        },
        "id": "CH5H34ck4TKJ",
        "outputId": "a5db46ee-9c3d-4017-cad9-cdb3b0042d1a"
      },
      "execution_count": null,
      "outputs": [
        {
          "output_type": "stream",
          "name": "stdout",
          "text": [
            "Collecting transliterate\n",
            "  Downloading transliterate-1.10.2-py2.py3-none-any.whl.metadata (14 kB)\n",
            "Requirement already satisfied: six>=1.1.0 in /usr/local/lib/python3.11/dist-packages (from transliterate) (1.17.0)\n",
            "Downloading transliterate-1.10.2-py2.py3-none-any.whl (45 kB)\n",
            "\u001b[?25l   \u001b[90m━━━━━━━━━━━━━━━━━━━━━━━━━━━━━━━━━━━━━━━━\u001b[0m \u001b[32m0.0/45.8 kB\u001b[0m \u001b[31m?\u001b[0m eta \u001b[36m-:--:--\u001b[0m\r\u001b[2K   \u001b[90m━━━━━━━━━━━━━━━━━━━━━━━━━━━━━━━━━━━━━━━━\u001b[0m \u001b[32m45.8/45.8 kB\u001b[0m \u001b[31m1.6 MB/s\u001b[0m eta \u001b[36m0:00:00\u001b[0m\n",
            "\u001b[?25hInstalling collected packages: transliterate\n",
            "Successfully installed transliterate-1.10.2\n"
          ]
        }
      ]
    },
    {
      "cell_type": "code",
      "execution_count": 13,
      "metadata": {
        "id": "chTTJ2LVVUVP"
      },
      "outputs": [],
      "source": [
        "\n",
        "import random\n",
        "import datetime\n",
        "import os\n",
        "import argparse\n",
        "from transliterate import translit\n",
        "from pyspark.sql import SparkSession\n",
        "from pyspark.sql.types import StructType, StructField, StringType, IntegerType, DateType\n",
        "from pyspark.sql.functions import col, when, count"
      ]
    },
    {
      "cell_type": "code",
      "source": [
        "# Список из 25 имен\n",
        "prepared_list_names = [\n",
        "    \"Алексей\", \"Ольга\", \"Дмитрий\", \"Мария\", \"Иван\",\n",
        "    \"Анна\", \"Сергей\", \"Елена\", \"Андрей\", \"Наталья\",\n",
        "    \"Владимир\", \"Татьяна\", \"Михаил\", \"Светлана\", \"Кирилл\",\n",
        "    \"Юлия\", \"Александр\", \"Екатерина\", \"Николай\", \"Ирина\",\n",
        "    \"Василий\", \"Евгений\", \"Людмила\", \"Павел\", \"Роман\"\n",
        "]\n",
        "\n",
        "# Список из 40 городов\n",
        "prepared_list_cities = [\n",
        "    \"Москва\", \"Санкт-Петербург\", \"Новосибирск\", \"Екатеринбург\", \"Казань\",\n",
        "    \"Нижний Новгород\", \"Челябинск\", \"Самара\", \"Омск\", \"Ростов-на-Дону\",\n",
        "    \"Уфа\", \"Красноярск\", \"Воронеж\", \"Пермь\", \"Волгоград\",\n",
        "    \"Краснодар\", \"Тольятти\", \"Ижевск\", \"Ульяновск\", \"Барнаул\",\n",
        "    \"Тюмень\", \"Иркутск\", \"Саратов\", \"Хабаровск\", \"Ярославль\",\n",
        "    \"Владивосток\", \"Махачкала\", \"Томск\", \"Оренбург\", \"Кемерово\",\n",
        "    \"Новокузнецк\", \"Рязань\", \"Астрахань\", \"Пенза\", \"Липецк\",\n",
        "    \"Тула\", \"Киров\", \"Брянск\", \"Чебоксары\", \"Калининград\"\n",
        "]\n"
      ],
      "metadata": {
        "id": "hd-dvSa5V9BY"
      },
      "execution_count": 14,
      "outputs": []
    },
    {
      "cell_type": "code",
      "source": [
        "current_date = datetime.date.today()"
      ],
      "metadata": {
        "id": "SDvf5S8OOSwQ"
      },
      "execution_count": 15,
      "outputs": []
    },
    {
      "cell_type": "code",
      "source": [
        "# ф-ция генерации даты рождения\n",
        "def generate_birth_date(age: int) -> datetime.date:\n",
        "    # Расчет даты рождения для случайного возраста\n",
        "    random_date_of_birth = current_date - datetime.timedelta(days=age * 365)\n",
        "\n",
        "    return random_date_of_birth"
      ],
      "metadata": {
        "id": "bTg5P0019wam"
      },
      "execution_count": 16,
      "outputs": []
    },
    {
      "cell_type": "code",
      "source": [
        "# ф-ция генерации даты регистрации.\n",
        "# Ограничения:\n",
        "# регистрация возможна после достижения человеком пяти лет и до текущей даты.\n",
        "\n",
        "def generate_registration_date(birth_date: datetime.date) -> datetime.date:\n",
        "    # toordinal() переводит дату в дни, а fromordinal() обратно в дату\n",
        "    start_date = birth_date.toordinal() + 5*365\n",
        "    end_date = current_date.toordinal()\n",
        "    random_registr_date = datetime.date \\\n",
        "        .fromordinal(random.randint(start_date, end_date))\n",
        "\n",
        "    return random_registr_date"
      ],
      "metadata": {
        "id": "fh_PkNMKrI8b"
      },
      "execution_count": 17,
      "outputs": []
    },
    {
      "cell_type": "code",
      "source": [
        "# ф-ции выбора случайного имени и города из отфильтрованного списка\n",
        "\n",
        "def random_name() -> str:\n",
        "  return random.choice([name for name in prepared_list_names if len(name) >= 5])\n",
        "\n",
        "def random_city() -> str:\n",
        "  return random.choice([city for city in prepared_list_cities if len(city) >= 7])"
      ],
      "metadata": {
        "id": "Zl90CT1RJBzi"
      },
      "execution_count": 18,
      "outputs": []
    },
    {
      "cell_type": "code",
      "source": [
        "# ф-ция удаляет все файлы, кроме .csv и переименовывает его в формат \"текущий год-месяц-день-dev.csv\"\n",
        "\n",
        "def rename_csv(output_path: str) -> str:\n",
        "    files_list = os.listdir(output_path)\n",
        "    new_filename = output_path + f'/{current_date}-dev.csv'\n",
        "\n",
        "    for file in files_list:\n",
        "        if file.startswith('part-') and file.endswith('.csv'):\n",
        "            old_name = output_path + '/' + file\n",
        "            os.rename(old_name, new_filename)\n",
        "        else:\n",
        "            os.remove(os.path.join(output_path, file))\n",
        "\n",
        "    return new_filename"
      ],
      "metadata": {
        "id": "LbgZ-Od0NrNJ"
      },
      "execution_count": 19,
      "outputs": []
    },
    {
      "cell_type": "code",
      "source": [
        "# ф-ция генерации данных\n",
        "\n",
        "def generate_data(num: int) -> list[tuple]:\n",
        "    data = []\n",
        "\n",
        "    # Рассчитываем количество NULL значений (не более 5% в каждом столбце)\n",
        "    number_null_in_table = int(num * 0.05)\n",
        "\n",
        "    # Для каждого столбца создаем свой счетчик\n",
        "    null_counts = {\n",
        "        'name': 0,\n",
        "        'email': 0,\n",
        "        'city': 0,\n",
        "        'age': 0,\n",
        "        'salary': 0,\n",
        "        'registration_date': 0\n",
        "    }\n",
        "\n",
        "    # Генерация данных\n",
        "    for i in range(0, num):\n",
        "        name = random_name()\n",
        "        city = random_city()\n",
        "        age = random.randint(18, 95) # Генерация случайного возраста от 18 до 95 лет\n",
        "        birth_date = generate_birth_date(age)\n",
        "        registration_date = generate_registration_date(birth_date)\n",
        "        #во время преобразования символов из ru в en translit заменяет \"ь\" на \"'' (Ольга -> Ol'ga)\n",
        "        # с помощью .replace(\"'\", \"\") убираем \"'\" (Ольга -> Olga)\n",
        "        email = translit(name.lower(), 'ru', reversed=True).replace(\"'\", \"\")\\\n",
        "        + str(birth_date.year) + '_' + str(birth_date.day) + '@'\\\n",
        "        + random.choice(['ru', 'com'])\n",
        "        salary = random.choice(range(100, 500)) * 10**3\n",
        "\n",
        "        # промежуточная запись в словарь\n",
        "        dict_data ={\n",
        "            'name':name,\n",
        "            'city':city,\n",
        "            'age':age,\n",
        "            'registration_date':registration_date,\n",
        "            'email':email,\n",
        "            'salary':salary\n",
        "        }\n",
        "\n",
        "        # Проверяем для каждого ключа (столбца) условие для вставки NULL значений\n",
        "        for k, v in dict_data.items():\n",
        "            #1. счетчик для столбца <= допустимому кол-ву NULL значений по столбцу\n",
        "            #2. вероятность вставки NULL (если random.random() возвращает число меньше 0.05)\n",
        "            if null_counts[k] <= number_null_in_table and random.random() < 0.05:\n",
        "                dict_data[k] = None\n",
        "                null_counts[k] += 1  # Увеличиваем счетчик для этого столбца\n",
        "\n",
        "\n",
        "        # Создаем кортеж данных и добавляем его в итоговый список\n",
        "        row_data = (i + 1, dict_data['name'], dict_data['email'], dict_data['city'],\\\n",
        "                    dict_data['age'], dict_data['salary'], dict_data['registration_date'])\n",
        "\n",
        "        data.append(row_data)\n",
        "\n",
        "    return data\n",
        "\n"
      ],
      "metadata": {
        "id": "eruc-b2hB-p8"
      },
      "execution_count": 20,
      "outputs": []
    },
    {
      "cell_type": "code",
      "source": [
        "if __name__ == '__main__':\n",
        "# вариант ввода числа с помощью input\n",
        "#    num = int(input('Введите число генерируемых данных (количество строк): '))\n",
        "#    data = generate_data(num)\n",
        "\n",
        "# вариант с использованием библиотеки argparse, через аргумент\n",
        "    # Чтение аргументов командной строки\n",
        "    parser = argparse.ArgumentParser(description=\"Генерация синтетических данных.\")\n",
        "    parser.add_argument('-r', '--rows', help='Число генерируемых данных (количество строк)',\n",
        "                        nargs='?', type=int, default=1000)\n",
        "    # Разбор аргументов, игнорируя незнакомые\n",
        "    args, unknown = parser.parse_known_args()\n",
        "    # Получаем значение из аргумента rows (если он был передан), либо используем дефолтное значение\n",
        "    num = args.rows\n",
        "    data = generate_data(num)"
      ],
      "metadata": {
        "id": "dwVWXkHBXCQD"
      },
      "execution_count": 21,
      "outputs": []
    },
    {
      "cell_type": "code",
      "source": [],
      "metadata": {
        "id": "UEtgfXtcEYuE"
      },
      "execution_count": null,
      "outputs": []
    },
    {
      "cell_type": "code",
      "source": [
        "    spark = SparkSession.builder \\\n",
        "        .appName(\"generator_csv\") \\\n",
        "        .config(\"spark.master\", \"local[*]\") \\\n",
        "        .getOrCreate()"
      ],
      "metadata": {
        "id": "3hVu7f5-pNJk"
      },
      "execution_count": 22,
      "outputs": []
    },
    {
      "cell_type": "code",
      "source": [
        "    schema = StructType([\n",
        "        StructField('id', IntegerType(), False),\n",
        "        StructField('name', StringType()),\n",
        "        StructField('email', StringType()),\n",
        "        StructField('city', StringType()),\n",
        "        StructField('age', IntegerType()),\n",
        "        StructField('salary', IntegerType()),\n",
        "        StructField('registration_date', DateType())\n",
        "    ])\n",
        "\n",
        "    df = spark.createDataFrame(data=data, schema=schema)\n",
        "    count_data = df.count()"
      ],
      "metadata": {
        "id": "ElMZ7IVzVuik"
      },
      "execution_count": 23,
      "outputs": []
    },
    {
      "cell_type": "code",
      "source": [
        "    df.printSchema()"
      ],
      "metadata": {
        "colab": {
          "base_uri": "https://localhost:8080/"
        },
        "id": "ZTSgaaxc30q4",
        "outputId": "a9eb0b8b-c104-4d2a-93b5-62f8c0196219"
      },
      "execution_count": 24,
      "outputs": [
        {
          "output_type": "stream",
          "name": "stdout",
          "text": [
            "root\n",
            " |-- id: integer (nullable = false)\n",
            " |-- name: string (nullable = true)\n",
            " |-- email: string (nullable = true)\n",
            " |-- city: string (nullable = true)\n",
            " |-- age: integer (nullable = true)\n",
            " |-- salary: integer (nullable = true)\n",
            " |-- registration_date: date (nullable = true)\n",
            "\n"
          ]
        }
      ]
    },
    {
      "cell_type": "code",
      "source": [
        "\"\"\" #Проверка нулевых данных\n",
        "# Data Frame с NULL значениями\n",
        "df_empty_values = df.filter(df['name'].isNull() | df['email'].isNull() \\\n",
        "                            | df['city'].isNull() | df['age'].isNull()\\\n",
        "                            | df['salary'].isNull() | df['registration_date'].isNull())\n",
        "\n",
        "# количество NULL значений по столбцам\n",
        "cnt_null_name = df_empty_values.filter(col('name').isNull()).count()\n",
        "cnt_null_email = df_empty_values.filter(col('email').isNull()).count()\n",
        "cnt_null_city = df_empty_values.filter(col('city').isNull()).count()\n",
        "cnt_null_age = df_empty_values.filter(col('age').isNull()).count()\n",
        "cnt_null_salary = df_empty_values.filter(col('salary').isNull()).count()\n",
        "cnt_null_reg_date = df_empty_values.filter(col('registration_date').isNull()).count()\n",
        "\n",
        "# Функция для проверки условия на превышение NULL значений по столбцам\n",
        "def check_null_percentage(column_name, cnt_null, count_data):\n",
        "    null_percentage = (cnt_null / count_data) * 100\n",
        "    if null_percentage > 5 and null_percentage < 6:\n",
        "        print(f'количество NULL в столбце \"{column_name}\" незначительно превышает 5% и равна {null_percentage:.2f}%')\n",
        "    elif null_percentage > 6:\n",
        "        print(f'количество NULL в столбце \"{column_name}\" ЗНАЧИТЕЛЬНО превышает 5% и равна {null_percentage:.2f}%')\n",
        "    else:\n",
        "        print(f'количество NULL в столбце \"{column_name}\" не превышает 5% и равна {null_percentage:.2f}%')\n",
        "\n",
        "# Проверка для каждого столбца\n",
        "check_null_percentage('name', cnt_null_name, count_data)\n",
        "check_null_percentage('email', cnt_null_email, count_data)\n",
        "check_null_percentage('city', cnt_null_city, count_data)\n",
        "check_null_percentage('age', cnt_null_age, count_data)\n",
        "check_null_percentage('salary', cnt_null_salary, count_data)\n",
        "check_null_percentage('registration_date', cnt_null_reg_date, count_data)\n",
        "\"\"\""
      ],
      "metadata": {
        "colab": {
          "base_uri": "https://localhost:8080/"
        },
        "id": "PqjBJmQscV5D",
        "outputId": "d6d1656e-ec75-43b8-b6b4-67e9f47d7696"
      },
      "execution_count": 32,
      "outputs": [
        {
          "output_type": "stream",
          "name": "stdout",
          "text": [
            "количество NULL в столбце \"name\" не превышает 5% и равна 4.70%\n",
            "количество NULL в столбце \"email\" не превышает 5% и равна 4.70%\n",
            "количество NULL в столбце \"city\" не превышает 5% и равна 4.00%\n",
            "количество NULL в столбце \"age\" незначительно превышает 5% и равна 5.10%\n",
            "количество NULL в столбце \"salary\" не превышает 5% и равна 4.50%\n",
            "количество NULL в столбце \"registration_date\" незначительно превышает 5% и равна 5.10%\n"
          ]
        }
      ]
    },
    {
      "cell_type": "code",
      "source": [
        "output_path = '/content/sample_data'\n",
        "df.coalesce(1).write.csv(output_path, header=True, mode=\"overwrite\")\n",
        "filename = rename_csv(output_path)\n",
        "print(f'Было сгенерировано {count_data} строк данных, \\\n",
        "которые были записаны в файл \\'{filename}\\'')"
      ],
      "metadata": {
        "colab": {
          "base_uri": "https://localhost:8080/"
        },
        "id": "15RQ-q9WzmLC",
        "outputId": "4508a39c-2672-4c5d-cf2a-07e431e68f91"
      },
      "execution_count": 33,
      "outputs": [
        {
          "output_type": "stream",
          "name": "stdout",
          "text": [
            "Было сгенерировано 1000 строк данных, которые были записаны в файл '/content/sample_data/2025-02-20-dev.csv'\n"
          ]
        }
      ]
    },
    {
      "cell_type": "code",
      "source": [
        "    spark.stop()"
      ],
      "metadata": {
        "id": "zbZnxk1hFp3n"
      },
      "execution_count": 34,
      "outputs": []
    },
    {
      "cell_type": "code",
      "source": [
        "# ВЕСЬ КОД НИЖЕ"
      ],
      "metadata": {
        "id": "YTw0FOyQxK_I"
      },
      "execution_count": null,
      "outputs": []
    },
    {
      "cell_type": "code",
      "source": [
        "import random\n",
        "import datetime\n",
        "import os\n",
        "import argparse\n",
        "from transliterate import translit\n",
        "from pyspark.sql import SparkSession\n",
        "from pyspark.sql.types import StructType, StructField, StringType, IntegerType, DateType\n",
        "from pyspark.sql.functions import col, when, count\n",
        "\n",
        "# Список из 25 имен\n",
        "prepared_list_names = [\n",
        "    \"Алексей\", \"Ольга\", \"Дмитрий\", \"Мария\", \"Иван\",\n",
        "    \"Анна\", \"Сергей\", \"Елена\", \"Андрей\", \"Наталья\",\n",
        "    \"Владимир\", \"Татьяна\", \"Михаил\", \"Светлана\", \"Кирилл\",\n",
        "    \"Юлия\", \"Александр\", \"Екатерина\", \"Николай\", \"Ирина\",\n",
        "    \"Василий\", \"Евгений\", \"Людмила\", \"Павел\", \"Роман\"\n",
        "]\n",
        "\n",
        "# Список из 40 городов\n",
        "prepared_list_cities = [\n",
        "    \"Москва\", \"Санкт-Петербург\", \"Новосибирск\", \"Екатеринбург\", \"Казань\",\n",
        "    \"Нижний Новгород\", \"Челябинск\", \"Самара\", \"Омск\", \"Ростов-на-Дону\",\n",
        "    \"Уфа\", \"Красноярск\", \"Воронеж\", \"Пермь\", \"Волгоград\",\n",
        "    \"Краснодар\", \"Тольятти\", \"Ижевск\", \"Ульяновск\", \"Барнаул\",\n",
        "    \"Тюмень\", \"Иркутск\", \"Саратов\", \"Хабаровск\", \"Ярославль\",\n",
        "    \"Владивосток\", \"Махачкала\", \"Томск\", \"Оренбург\", \"Кемерово\",\n",
        "    \"Новокузнецк\", \"Рязань\", \"Астрахань\", \"Пенза\", \"Липецк\",\n",
        "    \"Тула\", \"Киров\", \"Брянск\", \"Чебоксары\", \"Калининград\"\n",
        "]\n",
        "\n",
        "current_date = datetime.date.today()\n",
        "\n",
        "\n",
        "# ф-ция генерации даты рождения\n",
        "def generate_birth_date(age: int) -> datetime.date:\n",
        "    # Расчет даты рождения для случайного возраста\n",
        "    random_date_of_birth = current_date - datetime.timedelta(days=age * 365)\n",
        "\n",
        "    return random_date_of_birth\n",
        "\n",
        "# ф-ция генерации даты регистрации.\n",
        "# Ограничения:\n",
        "# регистрация возможна после достижения человеком пяти лет и до текущей даты.\n",
        "def generate_registration_date(birth_date: datetime.date) -> datetime.date:\n",
        "    # toordinal() переводит дату в дни, а fromordinal() обратно в дату\n",
        "    start_date = birth_date.toordinal() + 5*365\n",
        "    end_date = current_date.toordinal()\n",
        "    random_registr_date = datetime.date \\\n",
        "        .fromordinal(random.randint(start_date, end_date))\n",
        "\n",
        "    return random_registr_date\n",
        "\n",
        "# ф-ции выбора случайного имени и города из отфильтрованного списка\n",
        "def random_name() -> str:\n",
        "  return random.choice([name for name in prepared_list_names if len(name) >= 5])\n",
        "\n",
        "def random_city() -> str:\n",
        "  return random.choice([city for city in prepared_list_cities if len(city) >= 7])\n",
        "\n",
        "\n",
        "# ф-ция удаляет все файлы, кроме .csv и переименовывает его в формат \"текущий год-месяц-день-dev.csv\"\n",
        "def rename_csv(output_path: str) -> str:\n",
        "    files_list = os.listdir(output_path)\n",
        "    new_filename = output_path + f'/{current_date}-dev.csv'\n",
        "\n",
        "    for file in files_list:\n",
        "        if file.startswith('part-') and file.endswith('.csv'):\n",
        "            old_name = output_path + '/' + file\n",
        "            os.rename(old_name, new_filename)\n",
        "        else:\n",
        "            os.remove(os.path.join(output_path, file))\n",
        "\n",
        "    return new_filename\n",
        "\n",
        "\n",
        "# ф-ция генерации данных\n",
        "def generate_data(num: int) -> list[tuple]:\n",
        "    data = []\n",
        "\n",
        "    # Рассчитываем количество NULL значений (не более 5% в каждом столбце)\n",
        "    number_null_in_table = int(num * 0.05)\n",
        "\n",
        "    # Для каждого столбца создаем свой счетчик\n",
        "    null_counts = {\n",
        "        'name': 0,\n",
        "        'email': 0,\n",
        "        'city': 0,\n",
        "        'age': 0,\n",
        "        'salary': 0,\n",
        "        'registration_date': 0\n",
        "    }\n",
        "\n",
        "    # Генерация данных\n",
        "    for i in range(0, num):\n",
        "        name = random_name()\n",
        "        city = random_city()\n",
        "        age = random.randint(18, 95)  # Генерация случайного возраста от 18 до 95 лет\n",
        "        birth_date = generate_birth_date(age)\n",
        "        registration_date = generate_registration_date(birth_date)\n",
        "        # во время преобразования символов из ru в en translit заменяет \"ь\" на \"'' (Ольга -> Ol'ga)\n",
        "        # с помощью .replace(\"'\", \"\") убираем \"'\" (Ольга -> Olga)\n",
        "        email = translit(name.lower(), 'ru', reversed=True).replace(\"'\", \"\") \\\n",
        "                + str(birth_date.year) + '_' + str(birth_date.day) + '@' \\\n",
        "                + random.choice(['ru', 'com'])\n",
        "        salary = random.choice(range(100, 500)) * 10 ** 3\n",
        "\n",
        "        # промежуточная запись в словарь\n",
        "        dict_data = {\n",
        "            'name': name,\n",
        "            'city': city,\n",
        "            'age': age,\n",
        "            'registration_date': registration_date,\n",
        "            'email': email,\n",
        "            'salary': salary\n",
        "        }\n",
        "\n",
        "        # Проверяем для каждого ключа (столбца) условие для вставки NULL значений\n",
        "        for k, v in dict_data.items():\n",
        "            # 1. счетчик для столбца <= допустимому кол-ву NULL значений по столбцу\n",
        "            # 2. вероятность вставки NULL (если random.random() возвращает число меньше 0.05)\n",
        "            if null_counts[k] <= number_null_in_table and random.random() < 0.05:\n",
        "                dict_data[k] = None\n",
        "                null_counts[k] += 1  # Увеличиваем счетчик для этого столбца\n",
        "\n",
        "        # Создаем кортеж данных и добавляем его в итоговый список\n",
        "        row_data = (i + 1, dict_data['name'], dict_data['email'], dict_data['city'], \\\n",
        "                    dict_data['age'], dict_data['salary'], dict_data['registration_date'])\n",
        "\n",
        "        data.append(row_data)\n",
        "\n",
        "    return data\n",
        "\n",
        "if __name__ == '__main__':\n",
        "# вариант ввода числа с помощью input\n",
        "#    num = int(input('Введите число генерируемых данных (количество строк): '))\n",
        "#    data = generate_data(num)\n",
        "\n",
        "# вариант с использованием библиотеки argparse, через аргумент\n",
        "    # Чтение аргументов командной строки\n",
        "    parser = argparse.ArgumentParser(description=\"Генерация синтетических данных.\")\n",
        "    parser.add_argument('-r', '--rows', help='Число генерируемых данных (количество строк)',\n",
        "                        nargs='?', type=int, default=1000)\n",
        "    # Разбор аргументов, игнорируя незнакомые\n",
        "    args, unknown = parser.parse_known_args()\n",
        "    # Получаем значение из аргумента rows (если он был передан), либо используем дефолтное значение\n",
        "    num = args.rows\n",
        "    data = generate_data(num)\n",
        "\n",
        "    spark = SparkSession.builder \\\n",
        "        .appName(\"generator_csv\") \\\n",
        "        .config(\"spark.master\", \"local[*]\") \\\n",
        "        .getOrCreate()\n",
        "\n",
        "    schema = StructType([\n",
        "        StructField('id', IntegerType(), False),\n",
        "        StructField('name', StringType()),\n",
        "        StructField('email', StringType()),\n",
        "        StructField('city', StringType()),\n",
        "        StructField('age', IntegerType()),\n",
        "        StructField('salary', IntegerType()),\n",
        "        StructField('registration_date', DateType())\n",
        "    ])\n",
        "\n",
        "    df = spark.createDataFrame(data=data, schema=schema)\n",
        "    count_data = df.count()\n",
        "\n",
        "\n",
        "    \"\"\"#Проверка нулевых данных\n",
        "    # Data Frame с NULL значениями\n",
        "    df_empty_values = df.filter(df['name'].isNull() | df['email'].isNull() \\\n",
        "                                | df['city'].isNull() | df['age'].isNull()\\\n",
        "                                | df['salary'].isNull() | df['registration_date'].isNull())\n",
        "\n",
        "    # количество NULL значений по столбцам\n",
        "    cnt_null_name = df_empty_values.filter(col('name').isNull()).count()\n",
        "    cnt_null_email = df_empty_values.filter(col('email').isNull()).count()\n",
        "    cnt_null_city = df_empty_values.filter(col('city').isNull()).count()\n",
        "    cnt_null_age = df_empty_values.filter(col('age').isNull()).count()\n",
        "    cnt_null_salary = df_empty_values.filter(col('salary').isNull()).count()\n",
        "    cnt_null_reg_date = df_empty_values.filter(col('registration_date').isNull()).count()\n",
        "\n",
        "    # Функция для проверки условия на превышение NULL значений по столбцам\n",
        "    def check_null_percentage(column_name, cnt_null, count_data):\n",
        "        null_percentage = (cnt_null / count_data) * 100\n",
        "        if null_percentage > 5 and null_percentage < 6:\n",
        "            print(f'количество NULL в столбце \"{column_name}\" незначительно превышает 5% и равна {null_percentage:.2f}%')\n",
        "        elif null_percentage > 6:\n",
        "            print(f'количество NULL в столбце \"{column_name}\" ЗНАЧИТЕЛЬНО превышает 5% и равна {null_percentage:.2f}%')\n",
        "        else:\n",
        "            print(f'количество NULL в столбце \"{column_name}\" не превышает 5% и равна {null_percentage:.2f}%')\n",
        "\n",
        "    # Проверка для каждого столбца\n",
        "    check_null_percentage('name', cnt_null_name, count_data)\n",
        "    check_null_percentage('email', cnt_null_email, count_data)\n",
        "    check_null_percentage('city', cnt_null_city, count_data)\n",
        "    check_null_percentage('age', cnt_null_age, count_data)\n",
        "    check_null_percentage('salary', cnt_null_salary, count_data)\n",
        "    check_null_percentage('registration_date', cnt_null_reg_date, count_data)\"\"\"\n",
        "\n",
        "\n",
        "    output_path = '/content/sample_data'\n",
        "    df.coalesce(1).write.csv(output_path, header=True, mode=\"overwrite\")\n",
        "    filename = rename_csv(output_path)\n",
        "    print(f'Было сгенерировано {count_data} строк данных, \\\n",
        "которые были записаны в файл \\'{filename}\\'')\n",
        "\n",
        "    spark.stop()"
      ],
      "metadata": {
        "colab": {
          "base_uri": "https://localhost:8080/"
        },
        "id": "ia2D64VWbGw1",
        "outputId": "36b453d4-29ea-47bb-893c-ba3dfcca49ae"
      },
      "execution_count": 35,
      "outputs": [
        {
          "output_type": "stream",
          "name": "stdout",
          "text": [
            "Было сгенерировано 1000 строк данных, которые были записаны в файл '/content/sample_data/2025-02-20-dev.csv'\n"
          ]
        }
      ]
    }
  ]
}